{
  "cells": [
    {
      "cell_type": "markdown",
      "metadata": {
        "id": "view-in-github",
        "colab_type": "text"
      },
      "source": [
        "<a href=\"https://colab.research.google.com/github/ipez02/csci164/blob/main/anime_gaming_regression.ipynb\" target=\"_parent\"><img src=\"https://colab.research.google.com/assets/colab-badge.svg\" alt=\"Open In Colab\"/></a>"
      ]
    },
    {
      "cell_type": "code",
      "execution_count": 1,
      "id": "ef1fc80f",
      "metadata": {
        "id": "ef1fc80f"
      },
      "outputs": [],
      "source": [
        "# Anime & Gaming Regression Project (scikit-learn)"
      ]
    },
    {
      "cell_type": "code",
      "execution_count": 2,
      "id": "242dbe2b",
      "metadata": {
        "id": "242dbe2b"
      },
      "outputs": [],
      "source": [
        "\n",
        "import pandas as pd\n",
        "import numpy as np\n",
        "import matplotlib.pyplot as plt\n",
        "import seaborn as sns\n",
        "from sklearn.model_selection import train_test_split, GridSearchCV\n",
        "from sklearn.preprocessing import StandardScaler, OneHotEncoder\n",
        "from sklearn.compose import ColumnTransformer\n",
        "from sklearn.pipeline import Pipeline\n",
        "from sklearn.impute import SimpleImputer\n",
        "from sklearn.linear_model import LinearRegression\n",
        "from sklearn.ensemble import RandomForestRegressor\n",
        "from sklearn.neural_network import MLPRegressor\n",
        "from sklearn.metrics import mean_absolute_error, mean_squared_error, r2_score\n"
      ]
    },
    {
      "cell_type": "code",
      "execution_count": 3,
      "id": "39c1a2bb",
      "metadata": {
        "colab": {
          "base_uri": "https://localhost:8080/"
        },
        "id": "39c1a2bb",
        "outputId": "bfb003bf-dfff-4cc8-923f-e6c1158bdeaa"
      },
      "outputs": [
        {
          "output_type": "stream",
          "name": "stdout",
          "text": [
            "Anime dataset loaded: (12294, 7)\n",
            "Gaming dataset loaded: (16598, 11)\n"
          ]
        }
      ],
      "source": [
        "\n",
        "anime = pd.read_csv('anime.csv')\n",
        "games = pd.read_csv('vgsales.csv')\n",
        "print(\"Anime dataset loaded:\", anime.shape)\n",
        "print(\"Gaming dataset loaded:\", games.shape)\n"
      ]
    },
    {
      "cell_type": "code",
      "execution_count": 4,
      "id": "c199f764",
      "metadata": {
        "id": "c199f764"
      },
      "outputs": [],
      "source": [
        "\n",
        "def preprocess_anime(df):\n",
        "    df = df.copy()\n",
        "    df['rating'] = pd.to_numeric(df['rating'], errors='coerce')\n",
        "    df = df.dropna(subset=['rating'])\n",
        "    df = df[df['rating'] > 0]\n",
        "    df['genre'] = df['genre'].fillna('Unknown')\n",
        "    df['type'] = df['type'].fillna('Unknown')\n",
        "    df['episodes'] = pd.to_numeric(df['episodes'], errors='coerce')\n",
        "    df = df.dropna(subset=['episodes', 'members'])\n",
        "    X = df[['genre', 'type', 'episodes', 'members']]\n",
        "    y = df['rating']\n",
        "    preprocessor = ColumnTransformer([\n",
        "        ('num', StandardScaler(), ['episodes', 'members']),\n",
        "        ('cat', OneHotEncoder(handle_unknown='ignore'), ['genre', 'type'])\n",
        "    ])\n",
        "    return X, y, preprocessor\n"
      ]
    },
    {
      "cell_type": "code",
      "execution_count": 5,
      "id": "d76c9eeb",
      "metadata": {
        "id": "d76c9eeb"
      },
      "outputs": [],
      "source": [
        "\n",
        "def preprocess_games(df):\n",
        "    df = df.copy()\n",
        "    df = df.dropna(subset=['Global_Sales'])\n",
        "    df = df[df['Global_Sales'] > 0]\n",
        "\n",
        "    # Check available columns\n",
        "    available_features = ['Genre', 'Platform', 'Year_of_Release', 'Critic_Score']\n",
        "    features = [f for f in available_features if f in df.columns]\n",
        "\n",
        "    X = df[features]\n",
        "    y = df['Global_Sales']\n",
        "\n",
        "    cat_features = [f for f in features if df[f].dtype == 'object']\n",
        "    num_features = [f for f in features if df[f].dtype in ['float64', 'int64']]\n",
        "\n",
        "    preprocessor = ColumnTransformer([\n",
        "        ('num', StandardScaler(), num_features),\n",
        "        ('cat', OneHotEncoder(handle_unknown='ignore'), cat_features)\n",
        "    ])\n",
        "\n",
        "    return X, y, preprocessor\n",
        "\n"
      ]
    },
    {
      "cell_type": "code",
      "execution_count": 6,
      "id": "70ba3957",
      "metadata": {
        "id": "70ba3957"
      },
      "outputs": [],
      "source": [
        "\n",
        "def train_models(X, y, preprocessor):\n",
        "    X_train, X_test, y_train, y_test = train_test_split(X, y, test_size=0.2, random_state=42)\n",
        "    models = {\n",
        "        'LinearRegression': LinearRegression(),\n",
        "        'RandomForest': RandomForestRegressor(random_state=42),\n",
        "        'MLPRegressor': MLPRegressor(max_iter=500, random_state=42)\n",
        "    }\n",
        "    results = {}\n",
        "    for name, model in models.items():\n",
        "        pipeline = Pipeline([\n",
        "            ('preprocessor', preprocessor),\n",
        "            ('regressor', model)\n",
        "        ])\n",
        "        pipeline.fit(X_train, y_train)\n",
        "        y_pred = pipeline.predict(X_test)\n",
        "        results[name] = {\n",
        "            'MAE': mean_absolute_error(y_test, y_pred),\n",
        "            'MSE': mean_squared_error(y_test, y_pred),\n",
        "            'RMSE': np.sqrt(mean_squared_error(y_test, y_pred)),\n",
        "            'R2': r2_score(y_test, y_pred)\n",
        "        }\n",
        "        print(f\"Model: {name}\")\n",
        "        print(f\"MAE: {results[name]['MAE']:.3f}, RMSE: {results[name]['RMSE']:.3f}, R2: {results[name]['R2']:.3f}\\n\")\n",
        "    return results\n"
      ]
    },
    {
      "cell_type": "code",
      "execution_count": 7,
      "id": "63879cae",
      "metadata": {
        "colab": {
          "base_uri": "https://localhost:8080/"
        },
        "id": "63879cae",
        "outputId": "f82e25b1-7928-4c0e-bd7c-841184f7dfb5"
      },
      "outputs": [
        {
          "output_type": "stream",
          "name": "stdout",
          "text": [
            "Model: LinearRegression\n",
            "MAE: 0.629, RMSE: 0.828, R2: 0.333\n",
            "\n",
            "Model: RandomForest\n",
            "MAE: 0.499, RMSE: 0.683, R2: 0.546\n",
            "\n",
            "Model: MLPRegressor\n",
            "MAE: 0.594, RMSE: 0.788, R2: 0.395\n",
            "\n",
            "Model: LinearRegression\n",
            "MAE: 0.592, RMSE: 2.037, R2: 0.012\n",
            "\n",
            "Model: RandomForest\n",
            "MAE: 0.590, RMSE: 2.042, R2: 0.008\n",
            "\n",
            "Model: MLPRegressor\n",
            "MAE: 0.589, RMSE: 2.042, R2: 0.008\n",
            "\n",
            "\n",
            "Final Results Summary\n",
            "Anime Dataset: {'LinearRegression': {'MAE': 0.6294333665373097, 'MSE': 0.6849946644815802, 'RMSE': np.float64(0.827644044551509), 'R2': 0.33254441949942437}, 'RandomForest': {'MAE': 0.49897950931725876, 'MSE': 0.4658339293521868, 'RMSE': np.float64(0.682520277612458), 'R2': 0.5460936094035973}, 'MLPRegressor': {'MAE': 0.5937578882874939, 'MSE': 0.6210175815750284, 'RMSE': np.float64(0.7880466874335735), 'R2': 0.3948833882889752}}\n",
            "Gaming Dataset: {'LinearRegression': {'MAE': 0.5921588710724857, 'MSE': 4.149908671146241, 'RMSE': np.float64(2.0371324628374663), 'R2': 0.012247285783894779}, 'RandomForest': {'MAE': 0.5899342197550507, 'MSE': 4.169772941964333, 'RMSE': np.float64(2.042002189510171), 'R2': 0.00751923295880097}, 'MLPRegressor': {'MAE': 0.5894314372886288, 'MSE': 4.167744468938765, 'RMSE': np.float64(2.041505441809736), 'R2': 0.008002045930240564}}\n"
          ]
        }
      ],
      "source": [
        "\n",
        "X_anime, y_anime, preprocessor_anime = preprocess_anime(anime)\n",
        "anime_results = train_models(X_anime, y_anime, preprocessor_anime)\n",
        "\n",
        "X_games, y_games, preprocessor_games = preprocess_games(games)\n",
        "gaming_results = train_models(X_games, y_games, preprocessor_games)\n",
        "\n",
        "print(\"\\nFinal Results Summary\")\n",
        "print(\"Anime Dataset:\", anime_results)\n",
        "print(\"Gaming Dataset:\", gaming_results)\n"
      ]
    }
  ],
  "metadata": {
    "colab": {
      "provenance": [],
      "include_colab_link": true
    },
    "language_info": {
      "name": "python"
    },
    "kernelspec": {
      "name": "python3",
      "display_name": "Python 3"
    }
  },
  "nbformat": 4,
  "nbformat_minor": 5
}